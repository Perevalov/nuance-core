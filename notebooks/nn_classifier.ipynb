{
 "cells": [
  {
   "cell_type": "code",
   "execution_count": 1,
   "metadata": {},
   "outputs": [
    {
     "name": "stderr",
     "output_type": "stream",
     "text": [
      "Using TensorFlow backend.\n"
     ]
    }
   ],
   "source": [
    "import warnings\n",
    "warnings.filterwarnings(\"ignore\")\n",
    "\n",
    "from keras.preprocessing.text import Tokenizer\n",
    "from keras.preprocessing.sequence import pad_sequences\n",
    "from keras.utils.vis_utils import plot_model\n",
    "import matplotlib\n",
    "import matplotlib.pyplot as plt\n",
    "import seaborn as sns\n",
    "import pandas as pd\n",
    "import numpy as np\n",
    "np.random.seed(13)"
   ]
  },
  {
   "cell_type": "code",
   "execution_count": 10,
   "metadata": {},
   "outputs": [],
   "source": [
    "data = pd.read_csv('train.csv', sep=';')"
   ]
  },
  {
   "cell_type": "code",
   "execution_count": 11,
   "metadata": {},
   "outputs": [
    {
     "data": {
      "text/html": [
       "<div>\n",
       "<style scoped>\n",
       "    .dataframe tbody tr th:only-of-type {\n",
       "        vertical-align: middle;\n",
       "    }\n",
       "\n",
       "    .dataframe tbody tr th {\n",
       "        vertical-align: top;\n",
       "    }\n",
       "\n",
       "    .dataframe thead th {\n",
       "        text-align: right;\n",
       "    }\n",
       "</style>\n",
       "<table border=\"1\" class=\"dataframe\">\n",
       "  <thead>\n",
       "    <tr style=\"text-align: right;\">\n",
       "      <th></th>\n",
       "      <th>predicate</th>\n",
       "      <th>question</th>\n",
       "    </tr>\n",
       "  </thead>\n",
       "  <tbody>\n",
       "    <tr>\n",
       "      <th>0</th>\n",
       "      <td>http://dbpedia.org/ontology/distributor</td>\n",
       "      <td>what movie is produced by warner bros.</td>\n",
       "    </tr>\n",
       "    <tr>\n",
       "      <th>1</th>\n",
       "      <td>http://purl.org/linguistics/gold/hypernym</td>\n",
       "      <td>What is don graham known as?</td>\n",
       "    </tr>\n",
       "    <tr>\n",
       "      <th>2</th>\n",
       "      <td>http://dbpedia.org/ontology/location</td>\n",
       "      <td>what's there to see in columbus</td>\n",
       "    </tr>\n",
       "    <tr>\n",
       "      <th>3</th>\n",
       "      <td>http://dbpedia.org/ontology/birthPlace</td>\n",
       "      <td>who is a musician born in detroit</td>\n",
       "    </tr>\n",
       "    <tr>\n",
       "      <th>4</th>\n",
       "      <td>http://dbpedia.org/ontology/hometown</td>\n",
       "      <td>Which city did the artist ryna originate in</td>\n",
       "    </tr>\n",
       "  </tbody>\n",
       "</table>\n",
       "</div>"
      ],
      "text/plain": [
       "                                   predicate  \\\n",
       "0    http://dbpedia.org/ontology/distributor   \n",
       "1  http://purl.org/linguistics/gold/hypernym   \n",
       "2       http://dbpedia.org/ontology/location   \n",
       "3     http://dbpedia.org/ontology/birthPlace   \n",
       "4       http://dbpedia.org/ontology/hometown   \n",
       "\n",
       "                                      question  \n",
       "0       what movie is produced by warner bros.  \n",
       "1                 What is don graham known as?  \n",
       "2              what's there to see in columbus  \n",
       "3            who is a musician born in detroit  \n",
       "4  Which city did the artist ryna originate in  "
      ]
     },
     "execution_count": 11,
     "metadata": {},
     "output_type": "execute_result"
    }
   ],
   "source": [
    "data.head()"
   ]
  },
  {
   "cell_type": "code",
   "execution_count": 12,
   "metadata": {},
   "outputs": [],
   "source": [
    "from sklearn import preprocessing"
   ]
  },
  {
   "cell_type": "code",
   "execution_count": 13,
   "metadata": {},
   "outputs": [],
   "source": [
    "label_encoder = preprocessing.LabelEncoder()\n",
    "label_encoder.fit(list(data['predicate']))\n",
    "data['predicate'] = label_encoder.transform(list(data['predicate'].values.astype('str')))"
   ]
  },
  {
   "cell_type": "code",
   "execution_count": 16,
   "metadata": {},
   "outputs": [],
   "source": [
    "prep_queries = data.question"
   ]
  },
  {
   "cell_type": "code",
   "execution_count": 17,
   "metadata": {},
   "outputs": [
    {
     "name": "stdout",
     "output_type": "stream",
     "text": [
      "25186 уникальных токенов.\n"
     ]
    }
   ],
   "source": [
    "tokenizer = Tokenizer()\n",
    "tokenizer.fit_on_texts(prep_queries)\n",
    "sequences = tokenizer.texts_to_sequences(prep_queries)\n",
    "sequences_lenghts = np.array(list(map(lambda x: len(x), sequences)))\n",
    "word_index = tokenizer.word_index\n",
    "print('{0} уникальных токенов.'.format(len(word_index)))"
   ]
  },
  {
   "cell_type": "code",
   "execution_count": 18,
   "metadata": {},
   "outputs": [
    {
     "data": {
      "text/plain": [
       "[('what', 16341),\n",
       " ('is', 15539),\n",
       " ('the', 10149),\n",
       " ('of', 9334),\n",
       " ('in', 6555),\n",
       " ('a', 5209),\n",
       " ('was', 4451),\n",
       " ('who', 3846),\n",
       " ('which', 3784),\n",
       " ('where', 3172)]"
      ]
     },
     "execution_count": 18,
     "metadata": {},
     "output_type": "execute_result"
    }
   ],
   "source": [
    "from collections import Counter\n",
    "\n",
    "Counter(tokenizer.word_counts).most_common(10)"
   ]
  },
  {
   "cell_type": "code",
   "execution_count": 20,
   "metadata": {},
   "outputs": [],
   "source": [
    "import pickle\n",
    "pickle.dump(tokenizer, open(\"Tokenizer\", 'wb'))"
   ]
  },
  {
   "cell_type": "code",
   "execution_count": 21,
   "metadata": {},
   "outputs": [
    {
     "data": {
      "text/plain": [
       "<matplotlib.legend.Legend at 0x7fe4b463d5c0>"
      ]
     },
     "execution_count": 21,
     "metadata": {},
     "output_type": "execute_result"
    },
    {
     "data": {
      "image/png": "[encoded data removed]",
      "text/plain": [
       "<Figure size 1440x576 with 1 Axes>"
      ]
     },
     "metadata": {},
     "output_type": "display_data"
    }
   ],
   "source": [
    "plt.figure(figsize=(20, 8))\n",
    "\n",
    "plt.subplot(121)\n",
    "plt.bar(*np.unique(sequences_lenghts, return_counts=True), edgecolor=\"k\")\n",
    "plt.axvline(np.mean(sequences_lenghts), \n",
    "            c=\"r\", lw=3, \n",
    "            label=\"Средняя длина = {:.2f}\".format(np.mean(sequences_lenghts)))\n",
    "plt.axvline(np.percentile(sequences_lenghts, 95), \n",
    "            c=\"m\", lw=3, \n",
    "            label=\"95%-перцентиль = {:.2f}\".format(np.percentile(sequences_lenghts, 95)))\n",
    "plt.xlabel(\"Длина\")\n",
    "plt.ylabel(\"Количество запросов\")\n",
    "plt.title(\"Распределение длин запросов\")\n",
    "plt.legend()"
   ]
  },
  {
   "cell_type": "code",
   "execution_count": 22,
   "metadata": {},
   "outputs": [],
   "source": [
    "from sklearn.preprocessing import OneHotEncoder\n",
    "from sklearn.model_selection import train_test_split\n",
    "onehot_encoder = OneHotEncoder(sparse=False)"
   ]
  },
  {
   "cell_type": "code",
   "execution_count": 24,
   "metadata": {},
   "outputs": [
    {
     "name": "stdout",
     "output_type": "stream",
     "text": [
      "Shape of data tensor: (30186, 11)\n",
      "Shape of label tensor: (30186,)\n",
      "(30186, 100)\n"
     ]
    }
   ],
   "source": [
    "X = pad_sequences(sequences, maxlen=11)\n",
    "\n",
    "labels = np.array(data.predicate)\n",
    "print('Shape of data tensor:', X.shape)\n",
    "print('Shape of label tensor:', labels.shape)\n",
    "labels = labels.reshape(len(labels), 1)\n",
    "\n",
    "Y = onehot_encoder.fit_transform(labels)\n",
    "\n",
    "print(Y.shape)\n",
    "\n",
    "X_train, X_test, y_train, y_test = train_test_split(X, Y, test_size=0.33, random_state=42,shuffle=True)"
   ]
  },
  {
   "cell_type": "code",
   "execution_count": 25,
   "metadata": {},
   "outputs": [],
   "source": [
    "pickle.dump(onehot_encoder, open(\"OneHotEncoder\", 'wb'))"
   ]
  },
  {
   "cell_type": "code",
   "execution_count": 27,
   "metadata": {},
   "outputs": [],
   "source": [
    "from gensim.models import Word2Vec\n",
    "from gensim.models import KeyedVectors\n",
    "from gensim.models import FastText\n",
    "import tqdm"
   ]
  },
  {
   "cell_type": "code",
   "execution_count": 29,
   "metadata": {},
   "outputs": [],
   "source": [
    "wv = Word2Vec([q.split() for q in prep_queries], size=300, window=5,min_count=1)\n",
    "wv.train([q.split() for q in prep_queries],epochs=100,total_examples=wv.corpus_count)\n",
    "wv.save(\"word2vec\")\n",
    "\n",
    "#wv = Word2Vec.load(\"bin/word2vec\") #тренируем свои потому, что предобученные содержат меньше половины нужных слов"
   ]
  },
  {
   "cell_type": "code",
   "execution_count": 30,
   "metadata": {},
   "outputs": [
    {
     "name": "stderr",
     "output_type": "stream",
     "text": [
      "100%|██████████| 25186/25186 [00:00<00:00, 108778.39it/s]\n"
     ]
    }
   ],
   "source": [
    "zeros = []\n",
    "embedding_matrix = np.zeros((len(word_index) + 1, 300))\n",
    "for word, i in tqdm.tqdm(word_index.items()):\n",
    "    if word in wv.wv.vocab:\n",
    "        embedding_matrix[i] = wv[word]\n",
    "    else:\n",
    "        zeros.append(word)"
   ]
  },
  {
   "cell_type": "code",
   "execution_count": 37,
   "metadata": {},
   "outputs": [],
   "source": [
    "from keras.layers import Embedding\n",
    "\n",
    "embedding_layer = Embedding(len(word_index) + 1,\n",
    "                            300,\n",
    "                            weights=[embedding_matrix],\n",
    "                            input_length=11,\n",
    "                            trainable=True)"
   ]
  },
  {
   "cell_type": "code",
   "execution_count": 38,
   "metadata": {},
   "outputs": [],
   "source": [
    "from keras.layers import Input, Conv1D, Dense, MaxPooling1D,Dropout,LSTM\n",
    "from keras.models import Model, Sequential, load_model"
   ]
  },
  {
   "cell_type": "code",
   "execution_count": 39,
   "metadata": {},
   "outputs": [
    {
     "name": "stdout",
     "output_type": "stream",
     "text": [
      "_________________________________________________________________\n",
      "Layer (type)                 Output Shape              Param #   \n",
      "=================================================================\n",
      "embedding_3 (Embedding)      (None, 11, 300)           7556100   \n",
      "_________________________________________________________________\n",
      "conv1d_3 (Conv1D)            (None, 7, 128)            192128    \n",
      "_________________________________________________________________\n",
      "max_pooling1d_3 (MaxPooling1 (None, 1, 128)            0         \n",
      "_________________________________________________________________\n",
      "lstm_3 (LSTM)                (None, 150)               167400    \n",
      "_________________________________________________________________\n",
      "dense_3 (Dense)              (None, 100)               15100     \n",
      "=================================================================\n",
      "Total params: 7,930,728\n",
      "Trainable params: 7,930,728\n",
      "Non-trainable params: 0\n",
      "_________________________________________________________________\n"
     ]
    }
   ],
   "source": [
    "model = Sequential()\n",
    "\n",
    "model.add(embedding_layer)\n",
    "model.add(Conv1D(128, 5, activation='relu'))\n",
    "model.add(MaxPooling1D(pool_size=4))\n",
    "model.add(LSTM(150))\n",
    "model.add(Dense(np.unique(labels).shape[0], activation='softmax'))\n",
    "model.compile(loss='categorical_crossentropy', optimizer='adam', metrics=['accuracy'])\n",
    "\n",
    "model.summary()\n",
    "plot_model(model, to_file='model_plot.png', show_shapes=True, show_layer_names=True)"
   ]
  },
  {
   "cell_type": "code",
   "execution_count": 40,
   "metadata": {},
   "outputs": [
    {
     "name": "stdout",
     "output_type": "stream",
     "text": [
      "Train on 20224 samples, validate on 9962 samples\n",
      "Epoch 1/14\n",
      "20224/20224 [==============================] - 50s 2ms/step - loss: 1.8136 - acc: 0.5690 - val_loss: 1.2762 - val_acc: 0.6656\n",
      "Epoch 2/14\n",
      "20224/20224 [==============================] - 52s 3ms/step - loss: 1.1455 - acc: 0.6841 - val_loss: 1.1320 - val_acc: 0.6880\n",
      "Epoch 3/14\n",
      "20224/20224 [==============================] - 52s 3ms/step - loss: 0.9824 - acc: 0.7180 - val_loss: 1.0719 - val_acc: 0.6938\n",
      "Epoch 4/14\n",
      "20224/20224 [==============================] - 52s 3ms/step - loss: 0.8883 - acc: 0.7387 - val_loss: 1.0302 - val_acc: 0.7032\n",
      "Epoch 5/14\n",
      "20224/20224 [==============================] - 52s 3ms/step - loss: 0.8051 - acc: 0.7593 - val_loss: 1.0406 - val_acc: 0.6977\n",
      "Epoch 6/14\n",
      "20224/20224 [==============================] - 51s 3ms/step - loss: 0.7416 - acc: 0.7751 - val_loss: 1.0095 - val_acc: 0.7076\n",
      "Epoch 7/14\n",
      "20224/20224 [==============================] - 60s 3ms/step - loss: 0.6917 - acc: 0.7873 - val_loss: 1.0114 - val_acc: 0.7046\n",
      "Epoch 8/14\n",
      "20224/20224 [==============================] - 60s 3ms/step - loss: 0.6506 - acc: 0.8023 - val_loss: 1.0117 - val_acc: 0.7072\n",
      "Epoch 9/14\n",
      "20224/20224 [==============================] - 62s 3ms/step - loss: 0.6215 - acc: 0.8088 - val_loss: 1.0231 - val_acc: 0.7111\n",
      "Epoch 10/14\n",
      "20224/20224 [==============================] - 62s 3ms/step - loss: 0.5920 - acc: 0.8170 - val_loss: 1.0258 - val_acc: 0.7121\n",
      "Epoch 11/14\n",
      "20224/20224 [==============================] - 64s 3ms/step - loss: 0.5703 - acc: 0.8251 - val_loss: 1.0384 - val_acc: 0.7150\n",
      "Epoch 12/14\n",
      "20224/20224 [==============================] - 66s 3ms/step - loss: 0.5493 - acc: 0.8288 - val_loss: 1.0511 - val_acc: 0.7134\n",
      "Epoch 13/14\n",
      "20224/20224 [==============================] - 60s 3ms/step - loss: 0.5366 - acc: 0.8304 - val_loss: 1.0578 - val_acc: 0.7111\n",
      "Epoch 14/14\n",
      "20224/20224 [==============================] - 56s 3ms/step - loss: 0.5225 - acc: 0.8353 - val_loss: 1.0732 - val_acc: 0.7113\n"
     ]
    }
   ],
   "source": [
    "model.fit(X_train, y_train, validation_data=(X_test, y_test),\n",
    "          epochs=14, batch_size=64)\n",
    "\n",
    "model.save('CNN')"
   ]
  },
  {
   "cell_type": "code",
   "execution_count": 41,
   "metadata": {},
   "outputs": [],
   "source": [
    "y_pred_onehot = model.predict(X_test)"
   ]
  },
  {
   "cell_type": "code",
   "execution_count": 42,
   "metadata": {},
   "outputs": [],
   "source": [
    "y_pred = []\n",
    "y_val = []\n",
    "for i in range(y_pred_onehot.shape[0]):\n",
    "    y_pred.append(np.argmax(y_pred_onehot[i]))\n",
    "    y_val.append(np.argmax(y_test[i]))"
   ]
  },
  {
   "cell_type": "code",
   "execution_count": 43,
   "metadata": {},
   "outputs": [],
   "source": [
    "from sklearn.metrics import precision_score,recall_score,f1_score"
   ]
  },
  {
   "cell_type": "code",
   "execution_count": 44,
   "metadata": {},
   "outputs": [
    {
     "name": "stdout",
     "output_type": "stream",
     "text": [
      "0.7071456056983277 0.7113029512146155 0.69933915306686\n"
     ]
    }
   ],
   "source": [
    "print(precision_score(y_val,y_pred,average='weighted'),\n",
    "          recall_score(y_val,y_pred,average='weighted'),f1_score(y_val,y_pred,average='weighted'))"
   ]
  },
  {
   "cell_type": "code",
   "execution_count": 121,
   "metadata": {},
   "outputs": [],
   "source": [
    "from sklearn.feature_extraction.text import TfidfVectorizer\n",
    "\n",
    "tfidf = TfidfVectorizer()\n",
    "X_tfidf = tfidf.fit_transform(prep_queries)"
   ]
  },
  {
   "cell_type": "code",
   "execution_count": 122,
   "metadata": {},
   "outputs": [],
   "source": [
    "X_train, X_test, y_train, y_test = train_test_split(X_tfidf, Y, test_size=0.33, random_state=42,shuffle=True)"
   ]
  },
  {
   "cell_type": "code",
   "execution_count": 123,
   "metadata": {},
   "outputs": [
    {
     "data": {
      "text/plain": [
       "14898"
      ]
     },
     "execution_count": 123,
     "metadata": {},
     "output_type": "execute_result"
    }
   ],
   "source": [
    "len(tfidf.get_feature_names())"
   ]
  },
  {
   "cell_type": "code",
   "execution_count": 124,
   "metadata": {},
   "outputs": [
    {
     "name": "stdout",
     "output_type": "stream",
     "text": [
      "_________________________________________________________________\n",
      "Layer (type)                 Output Shape              Param #   \n",
      "=================================================================\n",
      "dense_18 (Dense)             (None, 512)               7628288   \n",
      "_________________________________________________________________\n",
      "dense_19 (Dense)             (None, 212)               108756    \n",
      "=================================================================\n",
      "Total params: 7,737,044\n",
      "Trainable params: 7,737,044\n",
      "Non-trainable params: 0\n",
      "_________________________________________________________________\n"
     ]
    }
   ],
   "source": [
    "simple_model = Sequential()\n",
    "\n",
    "simple_model.add(Dense(512, input_shape=(X_train.shape[1],),activation='relu'))\n",
    "simple_model.add(Dense(212,activation='softmax'))\n",
    "simple_model.compile(loss='categorical_crossentropy', optimizer='adam', metrics=['accuracy',f1])\n",
    "\n",
    "simple_model.summary()"
   ]
  },
  {
   "cell_type": "code",
   "execution_count": 127,
   "metadata": {},
   "outputs": [
    {
     "name": "stdout",
     "output_type": "stream",
     "text": [
      "Train on 16234 samples, validate on 7997 samples\n",
      "Epoch 1/2\n",
      "16234/16234 [==============================] - 87s 5ms/step - loss: 0.0419 - acc: 0.9952 - f1: 0.9949 - val_loss: 1.2286 - val_acc: 0.6768 - val_f1: 0.6762\n",
      "Epoch 2/2\n",
      "16234/16234 [==============================] - 87s 5ms/step - loss: 0.0305 - acc: 0.9964 - f1: 0.9960 - val_loss: 1.2869 - val_acc: 0.6724 - val_f1: 0.6714\n"
     ]
    }
   ],
   "source": [
    "simple_model.fit(X_train, y_train, validation_data=(X_test, y_test),\n",
    "          epochs=2, batch_size=32)\n",
    "\n",
    "simple_model.save('bin/SimpleNN')"
   ]
  },
  {
   "cell_type": "code",
   "execution_count": 128,
   "metadata": {},
   "outputs": [
    {
     "name": "stdout",
     "output_type": "stream",
     "text": [
      "0.702748452805034 0.6723771414280355 0.6724745873695136\n"
     ]
    }
   ],
   "source": [
    "y_pred_onehot = simple_model.predict(X_test)\n",
    "y_pred = []\n",
    "y_val = []\n",
    "for i in range(y_pred_onehot.shape[0]):\n",
    "    y_pred.append(np.argmax(y_pred_onehot[i]))\n",
    "    y_val.append(np.argmax(y_test[i]))\n",
    "print(precision_score(y_val,y_pred,average='weighted'),\n",
    "      recall_score(y_val,y_pred,average='weighted'),f1_score(y_val,y_pred,average='weighted'))"
   ]
  },
  {
   "cell_type": "code",
   "execution_count": null,
   "metadata": {},
   "outputs": [],
   "source": []
  }
 ],
 "metadata": {
  "kernelspec": {
   "display_name": "Python 3",
   "language": "python",
   "name": "python3"
  },
  "language_info": {
   "codemirror_mode": {
    "name": "ipython",
    "version": 3
   },
   "file_extension": ".py",
   "mimetype": "text/x-python",
   "name": "python",
   "nbconvert_exporter": "python",
   "pygments_lexer": "ipython3",
   "version": "3.6.4"
  }
 },
 "nbformat": 4,
 "nbformat_minor": 2
}
