{
 "cells": [
  {
   "cell_type": "code",
   "execution_count": 6,
   "metadata": {},
   "outputs": [],
   "source": [
    "import json\n",
    "import uuid\n",
    "\n",
    "qa_system_endpoint = '127.0.0.1:5002/get_answer_qanary_test'"
   ]
  },
  {
   "cell_type": "code",
   "execution_count": 3,
   "metadata": {},
   "outputs": [],
   "source": [
    "test_cases = {\n",
    "    \"Obama_BirthPlace_And_TellMeMore\" : {\n",
    "        \"dialogue_questions\": [\"Where was Barack Obama born?\", \"Tell me more about him\"],\n",
    "        \"template_classifier_output\": [\"Forward\", \"Abstract\"],\n",
    "        \"relation_classifier_output\": [\"http://dbpedia.org/ontology/birthPlace\", \"Output 2\"],\n",
    "        \"dbpedia_spotlight_annotator_output\": [\"http://dbpedia.org/resource/Barack_Obama\", \"Output 2\"],\n",
    "        \"coreference_resolver_output\": [\"\", \"http://dbpedia.org/resource/Barack_Obama\"],\n",
    "        \"question_validator_output\": [\"True\", \"True\"],\n",
    "        \"sparql_builder_output\": [\"oa:sparqlQuery\", \"oa:sparqlQuery\"],\n",
    "        \"dbpedia_sparql_worker_output\": [\"oa:sparqlResult\", \"oa:sparqlResult\"],\n",
    "        \"template_generator_output\": [\"oa:textResponse\", \"oa:textResponse\"],\n",
    "    }\n",
    "}"
   ]
  },
  {
   "cell_type": "code",
   "execution_count": 7,
   "metadata": {},
   "outputs": [],
   "source": [
    "def verify_template_classifier(output, in_graph):\n",
    "    return True"
   ]
  },
  {
   "cell_type": "code",
   "execution_count": 8,
   "metadata": {},
   "outputs": [],
   "source": [
    "def verify_relation_classifier(output, in_graph):\n",
    "    return True"
   ]
  },
  {
   "cell_type": "code",
   "execution_count": 9,
   "metadata": {},
   "outputs": [],
   "source": [
    "def verify_dbpedia_spotlight_annotator(output, in_graph):\n",
    "    return True"
   ]
  },
  {
   "cell_type": "code",
   "execution_count": 10,
   "metadata": {},
   "outputs": [],
   "source": [
    "def verify_coreference_resolver(output, in_graph):\n",
    "    return True"
   ]
  },
  {
   "cell_type": "code",
   "execution_count": 11,
   "metadata": {},
   "outputs": [],
   "source": [
    "def verify_question_validator(output, in_graph):\n",
    "    return True"
   ]
  },
  {
   "cell_type": "code",
   "execution_count": 12,
   "metadata": {},
   "outputs": [],
   "source": [
    "def verify_sparql_builder(output, in_graph):\n",
    "    return True"
   ]
  },
  {
   "cell_type": "code",
   "execution_count": 13,
   "metadata": {},
   "outputs": [],
   "source": [
    "def verify_dbpedia_sparql_worker(output, in_graph):\n",
    "    return True"
   ]
  },
  {
   "cell_type": "code",
   "execution_count": 14,
   "metadata": {},
   "outputs": [],
   "source": [
    "def verify_template_generator(output, in_graph):\n",
    "    return True"
   ]
  },
  {
   "cell_type": "code",
   "execution_count": null,
   "metadata": {},
   "outputs": [],
   "source": [
    "#for every test case (dialogue)\n",
    "for key in list(test_cases.keys()):\n",
    "    case = test_cases[key]\n",
    "    #generate session id (dialogue id)\n",
    "    session_id = str(uuid.uuid4())\n",
    "    for i in range(len(case['dialogue_questions'])):\n",
    "        #get True outputs\n",
    "        question = case['dialogue_questions'][i]\n",
    "        template_classifier_output = case['template_classifier_output'][i]\n",
    "        relation_classifier_output = case['relation_classifier_output'][i]\n",
    "        dbpedia_spotlight_annotator_output = case['dbpedia_spotlight_annotator_output'][i]\n",
    "        coreference_resolver_output = case['coreference_resolver_output'][i]\n",
    "        question_validator_output = case['question_validator_output'][i]\n",
    "        sparql_builder_output = case['sparql_builder_output'][i]\n",
    "        dbpedia_sparql_worker_output = case['dbpedia_sparql_worker_output'][i]\n",
    "        template_generator_output = case['template_generator_output'][i]\n",
    "        \n",
    "        #send request to Backend (as Frontent does)\n",
    "        response = requests.get(url=qa_system_endpoint,\n",
    "                            params={\n",
    "                                'session_id': session_id,\n",
    "                                'user_text': question\n",
    "                            }).json()\n",
    "        \n",
    "        #get question id from tripletstore\n",
    "        in_graph = response['in_graph']\n",
    "        \n",
    "        print(\"Template Classifier {0}\".format(verify_template_classifier(template_classifier_output, in_graph)))\n",
    "        print(\"Relation Classifier {0}\".format(verify_relation_classifier(relation_classifier_output, in_graph)))\n",
    "        print(\"DBpedia Spotlight NED {0}\".format(verify_dbpedia_spotlight_annotator(dbpedia_spotlight_annotator_output, in_graph)))\n",
    "        print(\"Coreference Resolver {0}\".format(verify_coreference_resolver(coreference_resolver_output, in_graph)))\n",
    "        print(\"Question Validator {0}\".format(verify_question_validator(question_validator_output, in_graph)))\n",
    "        print(\"SPARQL Builder {0}\".format(verify_sparql_builder(sparql_builder_output, in_graph)))\n",
    "        print(\"SPARQL Worker {0}\".format(verify_dbpedia_sparql_worker(dbpedia_sparql_worker_output, in_graph)))\n",
    "        print(\"Template Generator {0}\".format(verify_template_generator(template_generator_output, in_graph)))"
   ]
  }
 ],
 "metadata": {
  "kernelspec": {
   "display_name": "Python 3",
   "language": "python",
   "name": "python3"
  },
  "language_info": {
   "codemirror_mode": {
    "name": "ipython",
    "version": 3
   },
   "file_extension": ".py",
   "mimetype": "text/x-python",
   "name": "python",
   "nbconvert_exporter": "python",
   "pygments_lexer": "ipython3",
   "version": "3.6.4"
  }
 },
 "nbformat": 4,
 "nbformat_minor": 2
}
