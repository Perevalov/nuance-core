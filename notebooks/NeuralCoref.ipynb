{
 "cells": [
  {
   "cell_type": "code",
   "execution_count": 90,
   "metadata": {},
   "outputs": [],
   "source": [
    "# Load your usual SpaCy model (one of SpaCy English models)\n",
    "import spacy\n",
    "import operator\n",
    "nlp = spacy.load('en')"
   ]
  },
  {
   "cell_type": "code",
   "execution_count": 91,
   "metadata": {},
   "outputs": [],
   "source": [
    "# load NeuralCoref and add it to the pipe of SpaCy's model\n",
    "import neuralcoref\n",
    "coref = neuralcoref.NeuralCoref(nlp.vocab, greedyness=0.8)\n",
    "nlp.add_pipe(coref, name='neuralcoref')"
   ]
  },
  {
   "cell_type": "code",
   "execution_count": 92,
   "metadata": {},
   "outputs": [],
   "source": [
    "q_1 = \"Where was Barack Obama born?\"\n",
    "a = \"Hawaii birth place is BARACK OBAMA\"\n",
    "q_2 = \"Tell me more about him\""
   ]
  },
  {
   "cell_type": "code",
   "execution_count": 93,
   "metadata": {},
   "outputs": [],
   "source": [
    "doc = nlp(a+q_2)"
   ]
  },
  {
   "cell_type": "code",
   "execution_count": 94,
   "metadata": {},
   "outputs": [
    {
     "data": {
      "text/plain": [
       "{Hawaii: {Hawaii: 1.6314061880111694},\n",
       " Hawaii birth place: {Hawaii birth place: 1.5916625261306763,\n",
       "  Hawaii: -1.5772948265075684},\n",
       " BARACK OBAMATell me more about him: {BARACK OBAMATell me more about him: 2.0123772621154785,\n",
       "  Hawaii: -1.5654293298721313,\n",
       "  Hawaii birth place: -1.5055248737335205},\n",
       " him: {him: -0.067355215549469,\n",
       "  Hawaii: -2.385866165161133,\n",
       "  Hawaii birth place: -1.8358627557754517,\n",
       "  BARACK OBAMATell me more about him: -1.6307239532470703}}"
      ]
     },
     "execution_count": 94,
     "metadata": {},
     "output_type": "execute_result"
    }
   ],
   "source": [
    "doc._.coref_scores"
   ]
  },
  {
   "cell_type": "code",
   "execution_count": 95,
   "metadata": {},
   "outputs": [
    {
     "ename": "SyntaxError",
     "evalue": "invalid syntax (<ipython-input-95-2f9b70f6b74a>, line 1)",
     "output_type": "error",
     "traceback": [
      "\u001b[0;36m  File \u001b[0;32m\"<ipython-input-95-2f9b70f6b74a>\"\u001b[0;36m, line \u001b[0;32m1\u001b[0m\n\u001b[0;31m    labels[0] =\u001b[0m\n\u001b[0m                ^\u001b[0m\n\u001b[0;31mSyntaxError\u001b[0m\u001b[0;31m:\u001b[0m invalid syntax\n"
     ]
    }
   ],
   "source": [
    "labels[0] = "
   ]
  },
  {
   "cell_type": "code",
   "execution_count": 96,
   "metadata": {},
   "outputs": [
    {
     "data": {
      "text/plain": [
       "['', '']"
      ]
     },
     "execution_count": 96,
     "metadata": {},
     "output_type": "execute_result"
    }
   ],
   "source": [
    "labels"
   ]
  },
  {
   "cell_type": "code",
   "execution_count": 106,
   "metadata": {},
   "outputs": [],
   "source": [
    "doc = nlp(q_1+q_2)"
   ]
  },
  {
   "cell_type": "code",
   "execution_count": 109,
   "metadata": {},
   "outputs": [
    {
     "name": "stdout",
     "output_type": "stream",
     "text": [
      "5.035101890563965\n"
     ]
    }
   ],
   "source": [
    "for cluster in list(doc._.coref_scores.keys()):\n",
    "    if str(cluster) in q_2:\n",
    "        print(max(doc._.coref_scores[cluster].values()))"
   ]
  },
  {
   "cell_type": "code",
   "execution_count": 107,
   "metadata": {},
   "outputs": [
    {
     "data": {
      "text/plain": [
       "{the wife of Barack Obama: {the wife of Barack Obama: 1.8370593786239624},\n",
       " Barack Obama: {Barack Obama: 1.2383612394332886,\n",
       "  the wife of Barack Obama: -1.5839101076126099},\n",
       " her: {her: -0.4763253629207611,\n",
       "  the wife of Barack Obama: 5.035101890563965,\n",
       "  Barack Obama: -0.7100987434387207}}"
      ]
     },
     "execution_count": 107,
     "metadata": {},
     "output_type": "execute_result"
    }
   ],
   "source": [
    "doc._.coref_scores"
   ]
  },
  {
   "cell_type": "code",
   "execution_count": 110,
   "metadata": {},
   "outputs": [
    {
     "data": {
      "text/plain": [
       "[Barack Obama: [the wife of Barack Obama, Barack Obama, her]]"
      ]
     },
     "execution_count": 110,
     "metadata": {},
     "output_type": "execute_result"
    }
   ],
   "source": [
    "doc._.coref_clusters"
   ]
  },
  {
   "cell_type": "code",
   "execution_count": 111,
   "metadata": {},
   "outputs": [
    {
     "data": {
      "text/plain": [
       "True"
      ]
     },
     "execution_count": 111,
     "metadata": {},
     "output_type": "execute_result"
    }
   ],
   "source": [
    "# You're done. You can now use NeuralCoref the same way you usually manipulate a SpaCy document and it's annotations.\n",
    "doc = nlp(a+q_2)\n",
    "\n",
    "doc._.has_coref"
   ]
  },
  {
   "cell_type": "code",
   "execution_count": 112,
   "metadata": {},
   "outputs": [
    {
     "name": "stdout",
     "output_type": "stream",
     "text": [
      "7.124642372131348\n"
     ]
    }
   ],
   "source": [
    "for cluster in list(doc._.coref_scores.keys()):\n",
    "    if str(cluster) in q_2:\n",
    "        print(max(doc._.coref_scores[cluster].values()))"
   ]
  },
  {
   "cell_type": "code",
   "execution_count": 93,
   "metadata": {},
   "outputs": [
    {
     "data": {
      "text/plain": [
       "{It: {It: 2.066462516784668},\n",
       " Michelle Obama: {Michelle Obama: 1.499599814414978, It: -1.6225340366363525},\n",
       " her: {her: -0.4763253629207611,\n",
       "  It: -2.1658437252044678,\n",
       "  Michelle Obama: 6.911686897277832}}"
      ]
     },
     "execution_count": 93,
     "metadata": {},
     "output_type": "execute_result"
    }
   ],
   "source": [
    "doc._.coref_scores"
   ]
  },
  {
   "cell_type": "code",
   "execution_count": 94,
   "metadata": {},
   "outputs": [
    {
     "data": {
      "text/plain": [
       "[Michelle Obama: [It, Michelle Obama, her]]"
      ]
     },
     "execution_count": 94,
     "metadata": {},
     "output_type": "execute_result"
    }
   ],
   "source": [
    "doc._.coref_clusters"
   ]
  },
  {
   "cell_type": "code",
   "execution_count": 28,
   "metadata": {},
   "outputs": [],
   "source": [
    "from nltk.corpus import stopwords\n",
    "stopwords = stopwords.words('english')"
   ]
  },
  {
   "cell_type": "code",
   "execution_count": 31,
   "metadata": {},
   "outputs": [],
   "source": [
    "stopwords+=['word']"
   ]
  },
  {
   "cell_type": "code",
   "execution_count": 32,
   "metadata": {},
   "outputs": [
    {
     "data": {
      "text/plain": [
       "['i',\n",
       " 'me',\n",
       " 'my',\n",
       " 'myself',\n",
       " 'we',\n",
       " 'our',\n",
       " 'ours',\n",
       " 'ourselves',\n",
       " 'you',\n",
       " \"you're\",\n",
       " \"you've\",\n",
       " \"you'll\",\n",
       " \"you'd\",\n",
       " 'your',\n",
       " 'yours',\n",
       " 'yourself',\n",
       " 'yourselves',\n",
       " 'he',\n",
       " 'him',\n",
       " 'his',\n",
       " 'himself',\n",
       " 'she',\n",
       " \"she's\",\n",
       " 'her',\n",
       " 'hers',\n",
       " 'herself',\n",
       " 'it',\n",
       " \"it's\",\n",
       " 'its',\n",
       " 'itself',\n",
       " 'they',\n",
       " 'them',\n",
       " 'their',\n",
       " 'theirs',\n",
       " 'themselves',\n",
       " 'what',\n",
       " 'which',\n",
       " 'who',\n",
       " 'whom',\n",
       " 'this',\n",
       " 'that',\n",
       " \"that'll\",\n",
       " 'these',\n",
       " 'those',\n",
       " 'am',\n",
       " 'is',\n",
       " 'are',\n",
       " 'was',\n",
       " 'were',\n",
       " 'be',\n",
       " 'been',\n",
       " 'being',\n",
       " 'have',\n",
       " 'has',\n",
       " 'had',\n",
       " 'having',\n",
       " 'do',\n",
       " 'does',\n",
       " 'did',\n",
       " 'doing',\n",
       " 'a',\n",
       " 'an',\n",
       " 'the',\n",
       " 'and',\n",
       " 'but',\n",
       " 'if',\n",
       " 'or',\n",
       " 'because',\n",
       " 'as',\n",
       " 'until',\n",
       " 'while',\n",
       " 'of',\n",
       " 'at',\n",
       " 'by',\n",
       " 'for',\n",
       " 'with',\n",
       " 'about',\n",
       " 'against',\n",
       " 'between',\n",
       " 'into',\n",
       " 'through',\n",
       " 'during',\n",
       " 'before',\n",
       " 'after',\n",
       " 'above',\n",
       " 'below',\n",
       " 'to',\n",
       " 'from',\n",
       " 'up',\n",
       " 'down',\n",
       " 'in',\n",
       " 'out',\n",
       " 'on',\n",
       " 'off',\n",
       " 'over',\n",
       " 'under',\n",
       " 'again',\n",
       " 'further',\n",
       " 'then',\n",
       " 'once',\n",
       " 'here',\n",
       " 'there',\n",
       " 'when',\n",
       " 'where',\n",
       " 'why',\n",
       " 'how',\n",
       " 'all',\n",
       " 'any',\n",
       " 'both',\n",
       " 'each',\n",
       " 'few',\n",
       " 'more',\n",
       " 'most',\n",
       " 'other',\n",
       " 'some',\n",
       " 'such',\n",
       " 'no',\n",
       " 'nor',\n",
       " 'not',\n",
       " 'only',\n",
       " 'own',\n",
       " 'same',\n",
       " 'so',\n",
       " 'than',\n",
       " 'too',\n",
       " 'very',\n",
       " 's',\n",
       " 't',\n",
       " 'can',\n",
       " 'will',\n",
       " 'just',\n",
       " 'don',\n",
       " \"don't\",\n",
       " 'should',\n",
       " \"should've\",\n",
       " 'now',\n",
       " 'd',\n",
       " 'll',\n",
       " 'm',\n",
       " 'o',\n",
       " 're',\n",
       " 've',\n",
       " 'y',\n",
       " 'ain',\n",
       " 'aren',\n",
       " \"aren't\",\n",
       " 'couldn',\n",
       " \"couldn't\",\n",
       " 'didn',\n",
       " \"didn't\",\n",
       " 'doesn',\n",
       " \"doesn't\",\n",
       " 'hadn',\n",
       " \"hadn't\",\n",
       " 'hasn',\n",
       " \"hasn't\",\n",
       " 'haven',\n",
       " \"haven't\",\n",
       " 'isn',\n",
       " \"isn't\",\n",
       " 'ma',\n",
       " 'mightn',\n",
       " \"mightn't\",\n",
       " 'mustn',\n",
       " \"mustn't\",\n",
       " 'needn',\n",
       " \"needn't\",\n",
       " 'shan',\n",
       " \"shan't\",\n",
       " 'shouldn',\n",
       " \"shouldn't\",\n",
       " 'wasn',\n",
       " \"wasn't\",\n",
       " 'weren',\n",
       " \"weren't\",\n",
       " 'won',\n",
       " \"won't\",\n",
       " 'wouldn',\n",
       " \"wouldn't\",\n",
       " 'word']"
      ]
     },
     "execution_count": 32,
     "metadata": {},
     "output_type": "execute_result"
    }
   ],
   "source": [
    "stopwords"
   ]
  },
  {
   "cell_type": "code",
   "execution_count": 116,
   "metadata": {},
   "outputs": [],
   "source": [
    "def execute_resolver(text):\n",
    "    #TODO: question mark issue\n",
    "    doc = nlp(text)\n",
    "    return doc\n",
    "\n",
    "def get_coreferent_label(question_1, question_2, answer):\n",
    "    scores = [-9999, -9999]\n",
    "    labels = ['', '']\n",
    "    \n",
    "    question_1+='. '\n",
    "    answer+='. '\n",
    "    \n",
    "    doc_1 = nlp(question_1 + question_2)\n",
    "    doc_2 = nlp(answer + question_2)\n",
    "    \n",
    "    print(doc_1)\n",
    "    print(doc_2)\n",
    "    \n",
    "    if doc_1._.has_coref:\n",
    "        for cluster in list(doc_1._.coref_scores.keys()):\n",
    "            if str(cluster) in question_2:\n",
    "                max_score = max(doc_1._.coref_scores[cluster].values())\n",
    "                if max_score > scores[0]:\n",
    "                    scores[0] = max_score\n",
    "                    print(doc_1._.coref_scores[cluster])\n",
    "                    labels[0] = str(max(doc_1._.coref_scores[cluster], key=doc_1._.coref_scores[cluster].get))\n",
    "\n",
    "    if doc_2._.has_coref:\n",
    "        for cluster in list(doc_2._.coref_scores.keys()):\n",
    "            if str(cluster) in question_2:\n",
    "                max_score = max(doc_2._.coref_scores[cluster].values())\n",
    "                if max_score > scores[1]:\n",
    "                    scores[1] = max_score\n",
    "                    labels[1] = str(max(doc_2._.coref_scores[cluster], key=doc_2._.coref_scores[cluster].get))\n",
    "\n",
    "    max_index = scores.index(max(scores))\n",
    "\n",
    "    if scores[max_index] > -9999:\n",
    "        return {'score': scores[max_index], 'label': labels[max_index], 'index': max_index}\n",
    "    else:\n",
    "        return None"
   ]
  },
  {
   "cell_type": "code",
   "execution_count": 117,
   "metadata": {},
   "outputs": [
    {
     "name": "stdout",
     "output_type": "stream",
     "text": [
      "Where was Barack Obama born?. Tell me more about him\n",
      "Hawaii birth place is BARACK OBAMA. Tell me more about him\n",
      "{him: -0.28984731435775757, Barack Obama: 1.1879937648773193}\n"
     ]
    },
    {
     "data": {
      "text/plain": [
       "{'score': 2.711412191390991, 'label': 'BARACK OBAMA', 'index': 1}"
      ]
     },
     "execution_count": 117,
     "metadata": {},
     "output_type": "execute_result"
    }
   ],
   "source": [
    "get_coreferent_label(q_1, q_2, a)"
   ]
  },
  {
   "cell_type": "code",
   "execution_count": 118,
   "metadata": {},
   "outputs": [],
   "source": [
    "from fuzzywuzzy import fuzz"
   ]
  },
  {
   "cell_type": "code",
   "execution_count": 119,
   "metadata": {},
   "outputs": [],
   "source": [
    "def match(strings_list, mask):\n",
    "    ratios = list()\n",
    "    for str in strings_list:\n",
    "        ratios.append(fuzz.ratio(str, mask))\n",
    "\n",
    "    return ratios.index(max(ratios)), max(ratios)"
   ]
  },
  {
   "cell_type": "code",
   "execution_count": 122,
   "metadata": {},
   "outputs": [
    {
     "data": {
      "text/plain": [
       "(0, 100)"
      ]
     },
     "execution_count": 122,
     "metadata": {},
     "output_type": "execute_result"
    }
   ],
   "source": [
    "match(['Barack Obama'], 'Barack Obama')"
   ]
  },
  {
   "cell_type": "code",
   "execution_count": null,
   "metadata": {},
   "outputs": [],
   "source": []
  }
 ],
 "metadata": {
  "kernelspec": {
   "display_name": "Python 3",
   "language": "python",
   "name": "python3"
  },
  "language_info": {
   "codemirror_mode": {
    "name": "ipython",
    "version": 3
   },
   "file_extension": ".py",
   "mimetype": "text/x-python",
   "name": "python",
   "nbconvert_exporter": "python",
   "pygments_lexer": "ipython3",
   "version": "3.6.4"
  }
 },
 "nbformat": 4,
 "nbformat_minor": 2
}
