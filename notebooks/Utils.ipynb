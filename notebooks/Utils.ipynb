{
 "cells": [
  {
   "cell_type": "code",
   "execution_count": 1,
   "metadata": {},
   "outputs": [],
   "source": [
    "import json"
   ]
  },
  {
   "cell_type": "code",
   "execution_count": 4,
   "metadata": {},
   "outputs": [],
   "source": [
    "with open('../intents/sparql_templates.json') as json_file:\n",
    "    data = json.load(json_file)"
   ]
  },
  {
   "cell_type": "code",
   "execution_count": 5,
   "metadata": {},
   "outputs": [
    {
     "data": {
      "text/plain": [
       "{'forward': {'query': 'PREFIX rdfs: <http://www.w3.org/2000/01/rdf-schema#> PREFIX dbo: <http://dbpedia.org/ontology/> SELECT ?a WHERE { OPTIONAL { %(entity) %(predicate) ?a . } }',\n",
       "  'parameters_number': 1},\n",
       " 'backward': {'query': 'PREFIX rdfs: <http://www.w3.org/2000/01/rdf-schema#> PREFIX dbo: <http://dbpedia.org/ontology/> SELECT ?a WHERE { OPTIONAL { ?a %(predicate) %(entity) . } }',\n",
       "  'parameters_number': 1},\n",
       " 'distance': {'query': 'PREFIX rdfs: <http://www.w3.org/2000/01/rdf-schema#> PREFIX dbo: <http://dbpedia.org/ontology/> SELECT ( bif:st_distance( ?nyl,?ll ) ) AS ?distanceBetweenCities WHERE {{ <%(point_1)> geo:geometry ?nyl . <%(point_2)> geo:geometry ?ll  . }}',\n",
       "  'parameters_number': 2},\n",
       " 'boolean': {'query': 'PREFIX dbr: <http://dbpedia.org/resource/> PREFIX dbo: <http://dbpedia.org/ontology/> ASK where {{ <%(entity_1)> dbo:birthPlace <%(entity_2)> . }}',\n",
       "  'parameters_number': 2}}"
      ]
     },
     "execution_count": 5,
     "metadata": {},
     "output_type": "execute_result"
    }
   ],
   "source": [
    "data"
   ]
  },
  {
   "cell_type": "code",
   "execution_count": 44,
   "metadata": {},
   "outputs": [],
   "source": [
    "q = 'PREFIX dbr: <http://dbpedia.org/resource/> PREFIX dbo: <http://dbpedia.org/ontology/> ASK where {{{{ {name} dbo:birthPlace {name1} . }}}}'"
   ]
  },
  {
   "cell_type": "code",
   "execution_count": 45,
   "metadata": {},
   "outputs": [
    {
     "data": {
      "text/plain": [
       "'PREFIX dbr: <http://dbpedia.org/resource/> PREFIX dbo: <http://dbpedia.org/ontology/> ASK where {{ 1 dbo:birthPlace 2 . }}'"
      ]
     },
     "execution_count": 45,
     "metadata": {},
     "output_type": "execute_result"
    }
   ],
   "source": [
    "q.format(name=1, name1=2)"
   ]
  },
  {
   "cell_type": "code",
   "execution_count": 1,
   "metadata": {},
   "outputs": [],
   "source": [
    "dicti = {'head': {'vars': ['p', 'o']}, 'results': {'bindings': [{'p': {'type': 'uri', 'value': 'http://www.w3.org/ns/openannotation/core/templateType'}, 'o': {'type': 'uri', 'value': 'http://www.w3.org/ns/openannotation/core/templateType:boolean'}}, \n",
    "{'p': {'type': 'uri', 'value': 'http://www.w3.org/ns/openannotation/core/isTemplateClassifierConfident'}, 'o': {'type': 'uri', 'value': 'http://www.w3.org/ns/openannotation/core/boolean:True'}}]}}"
   ]
  },
  {
   "cell_type": "code",
   "execution_count": 8,
   "metadata": {},
   "outputs": [
    {
     "data": {
      "text/plain": [
       "[{'p': {'type': 'uri',\n",
       "   'value': 'http://www.w3.org/ns/openannotation/core/templateType'},\n",
       "  'o': {'type': 'uri',\n",
       "   'value': 'http://www.w3.org/ns/openannotation/core/templateType:boolean'}},\n",
       " {'p': {'type': 'uri',\n",
       "   'value': 'http://www.w3.org/ns/openannotation/core/isTemplateClassifierConfident'},\n",
       "  'o': {'type': 'uri',\n",
       "   'value': 'http://www.w3.org/ns/openannotation/core/boolean:True'}}]"
      ]
     },
     "execution_count": 8,
     "metadata": {},
     "output_type": "execute_result"
    }
   ],
   "source": [
    "dicti['results']['bindings']"
   ]
  },
  {
   "cell_type": "code",
   "execution_count": 11,
   "metadata": {},
   "outputs": [
    {
     "data": {
      "text/plain": [
       "'http://www.w3.org/ns/openannotation/core/templateType'"
      ]
     },
     "execution_count": 11,
     "metadata": {},
     "output_type": "execute_result"
    }
   ],
   "source": [
    "dicti['results']['bindings'][0]['p']['value']"
   ]
  },
  {
   "cell_type": "code",
   "execution_count": 98,
   "metadata": {},
   "outputs": [],
   "source": [
    "import ast\n",
    "import unidecode\n",
    "import json"
   ]
  },
  {
   "cell_type": "code",
   "execution_count": 101,
   "metadata": {},
   "outputs": [],
   "source": [
    "sparql_result = \"\"\"{'head': {'link': [], 'vars': ['a']}, 'results': {'distinct': False, 'ordered': True, 'bindings': [{'a': {'type': 'literal', 'xml:lang': 'en', 'value': 'Barack Hussein Obama II (US /bəˈrɑːk huːˈseɪn oʊˈbɑːmə/; born August 4, 1961) .'}}]}}\"\"\""
   ]
  },
  {
   "cell_type": "code",
   "execution_count": 102,
   "metadata": {},
   "outputs": [
    {
     "data": {
      "text/plain": [
       "{'head': {'link': [], 'vars': ['a']},\n",
       " 'results': {'distinct': False,\n",
       "  'ordered': True,\n",
       "  'bindings': [{'a': {'type': 'literal',\n",
       "     'xml:lang': 'en',\n",
       "     'value': 'Barack Hussein Obama II (US /bəˈrɑːk huːˈseɪn oʊˈbɑːmə/; born August 4, 1961) .'}}]}}"
      ]
     },
     "execution_count": 102,
     "metadata": {},
     "output_type": "execute_result"
    }
   ],
   "source": [
    "ast.literal_eval(sparql_result)"
   ]
  },
  {
   "cell_type": "code",
   "execution_count": 88,
   "metadata": {},
   "outputs": [
    {
     "data": {
      "text/plain": [
       "'Barack Hussein Obama II (US /bəˈrɑːk huːˈseɪn oʊˈbɑːmə/; born August 4, 1961) is an American politician who is the 44th and current President of the United States. He is the first African American to hold the office and the first president born outside the continental United States. Born in Honolulu, Hawaii, Obama is a graduate of Columbia University and Harvard Law School, where he was president of the Harvard Law Review. He was a community organizer in Chicago before earning his law degree. He worked as a civil rights attorney and taught constitutional law at the University of Chicago Law School between 1992 and 2004. While serving three terms representing the 13th District in the Illinois Senate from 1997 to 2004, he ran unsuccessfully in the Democratic primary for the United States House of Representatives in 2000 against incumbent Bobby Rush. In 2004, Obama received national attention during his campaign to represent Illinois in the United States Senate with his victory in the March Democratic Party primary, his keynote address at the Democratic National Convention in July, and his election to the Senate in November. He began his presidential campaign in 2007 and, after a close primary campaign against Hillary Clinton in 2008, he won sufficient delegates in the Democratic Party primaries to receive the presidential nomination. He then defeated Republican nominee John McCain in the general election, and was inaugurated as president on January 20, 2009. Nine months after his inauguration, Obama was controversially named the 2009 Nobel Peace Prize laureate. During his first two years in office, Obama signed into law economic stimulus legislation in response to the Great Recession in the form of the American Recovery and Reinvestment Act of 2009 and the Tax Relief, Unemployment Insurance Reauthorization, and Job Creation Act of 2010. Other major domestic initiatives in his first term included the Patient Protection and Affordable Care Act, often referred to as \"Obamacare\"; the Dodd–Frank Wall Street Reform and Consumer Protection Act; and the Don\\'t Ask, Don\\'t Tell Repeal Act of 2010. In foreign policy, Obama ended U.S. military involvement in the Iraq War, increased U.S. troop levels in Afghanistan, signed the New START arms control treaty with Russia, ordered U.S. military involvement in Libya in opposition to Muammar Gaddafi, and ordered the military operation that resulted in the death of Osama bin Laden. In January 2011, the Republicans regained control of the House of Representatives as the Democratic Party lost a total of 63 seats; and, after a lengthy debate over federal spending and whether or not to raise the nation\\'s debt limit,'"
      ]
     },
     "execution_count": 88,
     "metadata": {},
     "output_type": "execute_result"
    }
   ],
   "source": [
    "\"\"\"Barack Hussein Obama II (US /bəˈrɑːk huːˈseɪn oʊˈbɑːmə/; born August 4, 1961) is an American politician who is the 44th and current President of the United States. He is the first African American to hold the office and the first president born outside the continental United States. Born in Honolulu, Hawaii, Obama is a graduate of Columbia University and Harvard Law School, where he was president of the Harvard Law Review. He was a community organizer in Chicago before earning his law degree. He worked as a civil rights attorney and taught constitutional law at the University of Chicago Law School between 1992 and 2004. While serving three terms representing the 13th District in the Illinois Senate from 1997 to 2004, he ran unsuccessfully in the Democratic primary for the United States House of Representatives in 2000 against incumbent Bobby Rush. In 2004, Obama received national attention during his campaign to represent Illinois in the United States Senate with his victory in the March Democratic Party primary, his keynote address at the Democratic National Convention in July, and his election to the Senate in November. He began his presidential campaign in 2007 and, after a close primary campaign against Hillary Clinton in 2008, he won sufficient delegates in the Democratic Party primaries to receive the presidential nomination. He then defeated Republican nominee John McCain in the general election, and was inaugurated as president on January 20, 2009. Nine months after his inauguration, Obama was controversially named the 2009 Nobel Peace Prize laureate. During his first two years in office, Obama signed into law economic stimulus legislation in response to the Great Recession in the form of the American Recovery and Reinvestment Act of 2009 and the Tax Relief, Unemployment Insurance Reauthorization, and Job Creation Act of 2010. Other major domestic initiatives in his first term included the Patient Protection and Affordable Care Act, often referred to as \"Obamacare\"; the Dodd–Frank Wall Street Reform and Consumer Protection Act; and the Don't Ask, Don't Tell Repeal Act of 2010. In foreign policy, Obama ended U.S. military involvement in the Iraq War, increased U.S. troop levels in Afghanistan, signed the New START arms control treaty with Russia, ordered U.S. military involvement in Libya in opposition to Muammar Gaddafi, and ordered the military operation that resulted in the death of Osama bin Laden. In January 2011, the Republicans regained control of the House of Representatives as the Democratic Party lost a total of 63 seats; and, after a lengthy debate over federal spending and whether or not to raise the nation's debt limit,\"\"\" "
   ]
  },
  {
   "cell_type": "code",
   "execution_count": 105,
   "metadata": {},
   "outputs": [],
   "source": [
    "sparql_res = \"\"\"{'head': {'link: [], 'vars': ['a']}, 'results': {'distinct': False, 'ordered': True, 'bindings': [{'a': {'type': 'literal', 'xml:lang': 'en', 'value': 'Barack Hussein Obama II (US /bəˈrɑːk huːˈseɪn oʊˈbɑːmə/; born August 4, 1961) is an American politician who is the 44th and current President of the United States. He is the first African American to hold the office and the first president born outside the continental United States. Born in Honolulu, Hawaii, Obama is a graduate of Columbia University and Harvard Law School, where he was president of the Harvard Law Review. He was a community organizer in Chicago before earning his law degree. He worked as a civil rights attorney and taught constitutional law at the University of Chicago Law School between 1992 and 2004. While serving three terms representing the 13th District in the Illinois Senate from 1997 to 2004, he ran unsuccessfully in the Democratic primary for the United States House of Representatives in 2000 against incumbent Bobby Rush. In 2004, Obama received national attention during his campaign to represent Illinois in the United States Senate with his victory in the March Democratic Party primary, his keynote address at the Democratic National Convention in July, and his election to the Senate in November. He began his presidential campaign in 2007 and, after a close primary campaign against Hillary Clinton in 2008, he won sufficient delegates in the Democratic Party primaries to receive the presidential nomination. He then defeated Republican nominee John McCain in the general election, and was inaugurated as president on January 20, 2009. Nine months after his inauguration, Obama was controversially named the 2009 Nobel Peace Prize laureate. During his first two years in office, Obama signed into law economic stimulus legislation in response to the Great Recession in the form of the American Recovery and Reinvestment Act of 2009 and the Tax Relief, Unemployment Insurance Reauthorization, and Job Creation Act of 2010. Other major domestic initiatives in his first term included the Patient Protection and Affordable Care Act, often referred to as \"Obamacare\"; the Dodd–Frank Wall Street Reform and Consumer Protection Act; and the Don't Ask, Don't Tell Repeal Act of 2010. In foreign policy, Obama ended U.S. military involvement in the Iraq War, increased U.S. troop levels in Afghanistan, signed the New START arms control treaty with Russia, ordered U.S. military involvement in Libya in opposition to Muammar Gaddafi, and ordered the military operation that resulted in the death of Osama bin Laden. In January 2011, the Republicans regained control of the House of Representatives as the Democratic Party lost a total of 63 seats; and, after a lengthy debate over federal spending and whether or not to raise the nation's debt limit, Obama signed the Budget Control Act of 2011 and the American Taxpayer Relief Act of 2012. Obama was reelected president in November 2012, defeating Republican nominee Mitt Romney, and was sworn in for a second term on January 20, 2013. During his second term, Obama has promoted domestic policies related to gun control in response to the Sandy Hook Elementary School shooting, and has called for greater inclusiveness for LGBT Americans, while his administration has filed briefs which urged the Supreme Court to strike down part of the federal Defense of Marriage Act (United States v. Windsor) and state level same-sex marriage bans (Obergefell v. Hodges) as unconstitutional. In foreign policy, Obama ordered U.S. military intervention in Iraq in response to gains made by ISIL after the 2011 withdrawal from Iraq, continued the process of ending U.S. combat operations in Afghanistan, promoted discussions that led to the 2015 Paris Agreement on global climate change, brokered a nuclear deal with Iran, and normalized U.S. relations with Cuba.'}}]}}\"\"\""
   ]
  },
  {
   "cell_type": "code",
   "execution_count": 108,
   "metadata": {},
   "outputs": [
    {
     "data": {
      "text/plain": [
       "'\\\\{\\\\\\'head\\\\\\'\\\\:\\\\ \\\\{\\\\\\'link\\\\:\\\\ \\\\[\\\\]\\\\,\\\\ \\\\\\'vars\\\\\\'\\\\:\\\\ \\\\[\\\\\\'a\\\\\\'\\\\]\\\\}\\\\,\\\\ \\\\\\'results\\\\\\'\\\\:\\\\ \\\\{\\\\\\'distinct\\\\\\'\\\\:\\\\ False\\\\,\\\\ \\\\\\'ordered\\\\\\'\\\\:\\\\ True\\\\,\\\\ \\\\\\'bindings\\\\\\'\\\\:\\\\ \\\\[\\\\{\\\\\\'a\\\\\\'\\\\:\\\\ \\\\{\\\\\\'type\\\\\\'\\\\:\\\\ \\\\\\'literal\\\\\\'\\\\,\\\\ \\\\\\'xml\\\\:lang\\\\\\'\\\\:\\\\ \\\\\\'en\\\\\\'\\\\,\\\\ \\\\\\'value\\\\\\'\\\\:\\\\ \\\\\\'Barack\\\\ Hussein\\\\ Obama\\\\ II\\\\ \\\\(US\\\\ \\\\/b\\\\ə\\\\ˈr\\\\ɑ\\\\ːk\\\\ hu\\\\ː\\\\ˈse\\\\ɪn\\\\ o\\\\ʊ\\\\ˈb\\\\ɑ\\\\ːm\\\\ə\\\\/\\\\;\\\\ born\\\\ August\\\\ 4\\\\,\\\\ 1961\\\\)\\\\ is\\\\ an\\\\ American\\\\ politician\\\\ who\\\\ is\\\\ the\\\\ 44th\\\\ and\\\\ current\\\\ President\\\\ of\\\\ the\\\\ United\\\\ States\\\\.\\\\ He\\\\ is\\\\ the\\\\ first\\\\ African\\\\ American\\\\ to\\\\ hold\\\\ the\\\\ office\\\\ and\\\\ the\\\\ first\\\\ president\\\\ born\\\\ outside\\\\ the\\\\ continental\\\\ United\\\\ States\\\\.\\\\ Born\\\\ in\\\\ Honolulu\\\\,\\\\ Hawaii\\\\,\\\\ Obama\\\\ is\\\\ a\\\\ graduate\\\\ of\\\\ Columbia\\\\ University\\\\ and\\\\ Harvard\\\\ Law\\\\ School\\\\,\\\\ where\\\\ he\\\\ was\\\\ president\\\\ of\\\\ the\\\\ Harvard\\\\ Law\\\\ Review\\\\.\\\\ He\\\\ was\\\\ a\\\\ community\\\\ organizer\\\\ in\\\\ Chicago\\\\ before\\\\ earning\\\\ his\\\\ law\\\\ degree\\\\.\\\\ He\\\\ worked\\\\ as\\\\ a\\\\ civil\\\\ rights\\\\ attorney\\\\ and\\\\ taught\\\\ constitutional\\\\ law\\\\ at\\\\ the\\\\ University\\\\ of\\\\ Chicago\\\\ Law\\\\ School\\\\ between\\\\ 1992\\\\ and\\\\ 2004\\\\.\\\\ While\\\\ serving\\\\ three\\\\ terms\\\\ representing\\\\ the\\\\ 13th\\\\ District\\\\ in\\\\ the\\\\ Illinois\\\\ Senate\\\\ from\\\\ 1997\\\\ to\\\\ 2004\\\\,\\\\ he\\\\ ran\\\\ unsuccessfully\\\\ in\\\\ the\\\\ Democratic\\\\ primary\\\\ for\\\\ the\\\\ United\\\\ States\\\\ House\\\\ of\\\\ Representatives\\\\ in\\\\ 2000\\\\ against\\\\ incumbent\\\\ Bobby\\\\ Rush\\\\.\\\\ In\\\\ 2004\\\\,\\\\ Obama\\\\ received\\\\ national\\\\ attention\\\\ during\\\\ his\\\\ campaign\\\\ to\\\\ represent\\\\ Illinois\\\\ in\\\\ the\\\\ United\\\\ States\\\\ Senate\\\\ with\\\\ his\\\\ victory\\\\ in\\\\ the\\\\ March\\\\ Democratic\\\\ Party\\\\ primary\\\\,\\\\ his\\\\ keynote\\\\ address\\\\ at\\\\ the\\\\ Democratic\\\\ National\\\\ Convention\\\\ in\\\\ July\\\\,\\\\ and\\\\ his\\\\ election\\\\ to\\\\ the\\\\ Senate\\\\ in\\\\ November\\\\.\\\\ He\\\\ began\\\\ his\\\\ presidential\\\\ campaign\\\\ in\\\\ 2007\\\\ and\\\\,\\\\ after\\\\ a\\\\ close\\\\ primary\\\\ campaign\\\\ against\\\\ Hillary\\\\ Clinton\\\\ in\\\\ 2008\\\\,\\\\ he\\\\ won\\\\ sufficient\\\\ delegates\\\\ in\\\\ the\\\\ Democratic\\\\ Party\\\\ primaries\\\\ to\\\\ receive\\\\ the\\\\ presidential\\\\ nomination\\\\.\\\\ He\\\\ then\\\\ defeated\\\\ Republican\\\\ nominee\\\\ John\\\\ McCain\\\\ in\\\\ the\\\\ general\\\\ election\\\\,\\\\ and\\\\ was\\\\ inaugurated\\\\ as\\\\ president\\\\ on\\\\ January\\\\ 20\\\\,\\\\ 2009\\\\.\\\\ Nine\\\\ months\\\\ after\\\\ his\\\\ inauguration\\\\,\\\\ Obama\\\\ was\\\\ controversially\\\\ named\\\\ the\\\\ 2009\\\\ Nobel\\\\ Peace\\\\ Prize\\\\ laureate\\\\.\\\\ During\\\\ his\\\\ first\\\\ two\\\\ years\\\\ in\\\\ office\\\\,\\\\ Obama\\\\ signed\\\\ into\\\\ law\\\\ economic\\\\ stimulus\\\\ legislation\\\\ in\\\\ response\\\\ to\\\\ the\\\\ Great\\\\ Recession\\\\ in\\\\ the\\\\ form\\\\ of\\\\ the\\\\ American\\\\ Recovery\\\\ and\\\\ Reinvestment\\\\ Act\\\\ of\\\\ 2009\\\\ and\\\\ the\\\\ Tax\\\\ Relief\\\\,\\\\ Unemployment\\\\ Insurance\\\\ Reauthorization\\\\,\\\\ and\\\\ Job\\\\ Creation\\\\ Act\\\\ of\\\\ 2010\\\\.\\\\ Other\\\\ major\\\\ domestic\\\\ initiatives\\\\ in\\\\ his\\\\ first\\\\ term\\\\ included\\\\ the\\\\ Patient\\\\ Protection\\\\ and\\\\ Affordable\\\\ Care\\\\ Act\\\\,\\\\ often\\\\ referred\\\\ to\\\\ as\\\\ \\\\\"Obamacare\\\\\"\\\\;\\\\ the\\\\ Dodd\\\\–Frank\\\\ Wall\\\\ Street\\\\ Reform\\\\ and\\\\ Consumer\\\\ Protection\\\\ Act\\\\;\\\\ and\\\\ the\\\\ Don\\\\\\'t\\\\ Ask\\\\,\\\\ Don\\\\\\'t\\\\ Tell\\\\ Repeal\\\\ Act\\\\ of\\\\ 2010\\\\.\\\\ In\\\\ foreign\\\\ policy\\\\,\\\\ Obama\\\\ ended\\\\ U\\\\.S\\\\.\\\\ military\\\\ involvement\\\\ in\\\\ the\\\\ Iraq\\\\ War\\\\,\\\\ increased\\\\ U\\\\.S\\\\.\\\\ troop\\\\ levels\\\\ in\\\\ Afghanistan\\\\,\\\\ signed\\\\ the\\\\ New\\\\ START\\\\ arms\\\\ control\\\\ treaty\\\\ with\\\\ Russia\\\\,\\\\ ordered\\\\ U\\\\.S\\\\.\\\\ military\\\\ involvement\\\\ in\\\\ Libya\\\\ in\\\\ opposition\\\\ to\\\\ Muammar\\\\ Gaddafi\\\\,\\\\ and\\\\ ordered\\\\ the\\\\ military\\\\ operation\\\\ that\\\\ resulted\\\\ in\\\\ the\\\\ death\\\\ of\\\\ Osama\\\\ bin\\\\ Laden\\\\.\\\\ In\\\\ January\\\\ 2011\\\\,\\\\ the\\\\ Republicans\\\\ regained\\\\ control\\\\ of\\\\ the\\\\ House\\\\ of\\\\ Representatives\\\\ as\\\\ the\\\\ Democratic\\\\ Party\\\\ lost\\\\ a\\\\ total\\\\ of\\\\ 63\\\\ seats\\\\;\\\\ and\\\\,\\\\ after\\\\ a\\\\ lengthy\\\\ debate\\\\ over\\\\ federal\\\\ spending\\\\ and\\\\ whether\\\\ or\\\\ not\\\\ to\\\\ raise\\\\ the\\\\ nation\\\\\\'s\\\\ debt\\\\ limit\\\\,\\\\ Obama\\\\ signed\\\\ the\\\\ Budget\\\\ Control\\\\ Act\\\\ of\\\\ 2011\\\\ and\\\\ the\\\\ American\\\\ Taxpayer\\\\ Relief\\\\ Act\\\\ of\\\\ 2012\\\\.\\\\ Obama\\\\ was\\\\ reelected\\\\ president\\\\ in\\\\ November\\\\ 2012\\\\,\\\\ defeating\\\\ Republican\\\\ nominee\\\\ Mitt\\\\ Romney\\\\,\\\\ and\\\\ was\\\\ sworn\\\\ in\\\\ for\\\\ a\\\\ second\\\\ term\\\\ on\\\\ January\\\\ 20\\\\,\\\\ 2013\\\\.\\\\ During\\\\ his\\\\ second\\\\ term\\\\,\\\\ Obama\\\\ has\\\\ promoted\\\\ domestic\\\\ policies\\\\ related\\\\ to\\\\ gun\\\\ control\\\\ in\\\\ response\\\\ to\\\\ the\\\\ Sandy\\\\ Hook\\\\ Elementary\\\\ School\\\\ shooting\\\\,\\\\ and\\\\ has\\\\ called\\\\ for\\\\ greater\\\\ inclusiveness\\\\ for\\\\ LGBT\\\\ Americans\\\\,\\\\ while\\\\ his\\\\ administration\\\\ has\\\\ filed\\\\ briefs\\\\ which\\\\ urged\\\\ the\\\\ Supreme\\\\ Court\\\\ to\\\\ strike\\\\ down\\\\ part\\\\ of\\\\ the\\\\ federal\\\\ Defense\\\\ of\\\\ Marriage\\\\ Act\\\\ \\\\(United\\\\ States\\\\ v\\\\.\\\\ Windsor\\\\)\\\\ and\\\\ state\\\\ level\\\\ same\\\\-sex\\\\ marriage\\\\ bans\\\\ \\\\(Obergefell\\\\ v\\\\.\\\\ Hodges\\\\)\\\\ as\\\\ unconstitutional\\\\.\\\\ In\\\\ foreign\\\\ policy\\\\,\\\\ Obama\\\\ ordered\\\\ U\\\\.S\\\\.\\\\ military\\\\ intervention\\\\ in\\\\ Iraq\\\\ in\\\\ response\\\\ to\\\\ gains\\\\ made\\\\ by\\\\ ISIL\\\\ after\\\\ the\\\\ 2011\\\\ withdrawal\\\\ from\\\\ Iraq\\\\,\\\\ continued\\\\ the\\\\ process\\\\ of\\\\ ending\\\\ U\\\\.S\\\\.\\\\ combat\\\\ operations\\\\ in\\\\ Afghanistan\\\\,\\\\ promoted\\\\ discussions\\\\ that\\\\ led\\\\ to\\\\ the\\\\ 2015\\\\ Paris\\\\ Agreement\\\\ on\\\\ global\\\\ climate\\\\ change\\\\,\\\\ brokered\\\\ a\\\\ nuclear\\\\ deal\\\\ with\\\\ Iran\\\\,\\\\ and\\\\ normalized\\\\ U\\\\.S\\\\.\\\\ relations\\\\ with\\\\ Cuba\\\\.\\\\\\'\\\\}\\\\}\\\\]\\\\}\\\\}'"
      ]
     },
     "execution_count": 108,
     "metadata": {},
     "output_type": "execute_result"
    }
   ],
   "source": [
    "import re\n",
    "\n",
    "re.escape(sparql_res)"
   ]
  },
  {
   "cell_type": "code",
   "execution_count": 109,
   "metadata": {},
   "outputs": [
    {
     "ename": "SyntaxError",
     "evalue": "invalid syntax (<unknown>, line 1)",
     "output_type": "error",
     "traceback": [
      "Traceback \u001b[0;36m(most recent call last)\u001b[0m:\n",
      "  File \u001b[1;32m\"/home/alex/miniconda3/lib/python3.6/site-packages/IPython/core/interactiveshell.py\"\u001b[0m, line \u001b[1;32m2961\u001b[0m, in \u001b[1;35mrun_code\u001b[0m\n    exec(code_obj, self.user_global_ns, self.user_ns)\n",
      "  File \u001b[1;32m\"<ipython-input-109-73e994797494>\"\u001b[0m, line \u001b[1;32m1\u001b[0m, in \u001b[1;35m<module>\u001b[0m\n    ast.literal_eval(sparql_res)\n",
      "  File \u001b[1;32m\"/home/alex/miniconda3/lib/python3.6/ast.py\"\u001b[0m, line \u001b[1;32m48\u001b[0m, in \u001b[1;35mliteral_eval\u001b[0m\n    node_or_string = parse(node_or_string, mode='eval')\n",
      "\u001b[0;36m  File \u001b[0;32m\"/home/alex/miniconda3/lib/python3.6/ast.py\"\u001b[0;36m, line \u001b[0;32m35\u001b[0;36m, in \u001b[0;35mparse\u001b[0;36m\u001b[0m\n\u001b[0;31m    return compile(source, filename, mode, PyCF_ONLY_AST)\u001b[0m\n",
      "\u001b[0;36m  File \u001b[0;32m\"<unknown>\"\u001b[0;36m, line \u001b[0;32m1\u001b[0m\n\u001b[0;31m    {'head': {'link: [], 'vars': ['a']}, 'results': {'distinct': False, 'ordered': True, 'bindings': [{'a': {'type': 'literal', 'xml:lang': 'en', 'value': 'Barack Hussein Obama II (US /bəˈrɑːk huːˈseɪn oʊˈbɑːmə/; born August 4, 1961) is an American politician who is the 44th and current President of the United States. He is the first African American to hold the office and the first president born outside the continental United States. Born in Honolulu, Hawaii, Obama is a graduate of Columbia University and Harvard Law School, where he was president of the Harvard Law Review. He was a community organizer in Chicago before earning his law degree. He worked as a civil rights attorney and taught constitutional law at the University of Chicago Law School between 1992 and 2004. While serving three terms representing the 13th District in the Illinois Senate from 1997 to 2004, he ran unsuccessfully in the Democratic primary for the United States House of Representatives in 2000 against incumbent Bobby Rush. In 2004, Obama received national attention during his campaign to represent Illinois in the United States Senate with his victory in the March Democratic Party primary, his keynote address at the Democratic National Convention in July, and his election to the Senate in November. He began his presidential campaign in 2007 and, after a close primary campaign against Hillary Clinton in 2008, he won sufficient delegates in the Democratic Party primaries to receive the presidential nomination. He then defeated Republican nominee John McCain in the general election, and was inaugurated as president on January 20, 2009. Nine months after his inauguration, Obama was controversially named the 2009 Nobel Peace Prize laureate. During his first two years in office, Obama signed into law economic stimulus legislation in response to the Great Recession in the form of the American Recovery and Reinvestment Act of 2009 and the Tax Relief, Unemployment Insurance Reauthorization, and Job Creation Act of 2010. Other major domestic initiatives in his first term included the Patient Protection and Affordable Care Act, often referred to as \"Obamacare\"; the Dodd–Frank Wall Street Reform and Consumer Protection Act; and the Don't Ask, Don't Tell Repeal Act of 2010. In foreign policy, Obama ended U.S. military involvement in the Iraq War, increased U.S. troop levels in Afghanistan, signed the New START arms control treaty with Russia, ordered U.S. military involvement in Libya in opposition to Muammar Gaddafi, and ordered the military operation that resulted in the death of Osama bin Laden. In January 2011, the Republicans regained control of the House of Representatives as the Democratic Party lost a total of 63 seats; and, after a lengthy debate over federal spending and whether or not to raise the nation's debt limit, Obama signed the Budget Control Act of 2011 and the American Taxpayer Relief Act of 2012. Obama was reelected president in November 2012, defeating Republican nominee Mitt Romney, and was sworn in for a second term on January 20, 2013. During his second term, Obama has promoted domestic policies related to gun control in response to the Sandy Hook Elementary School shooting, and has called for greater inclusiveness for LGBT Americans, while his administration has filed briefs which urged the Supreme Court to strike down part of the federal Defense of Marriage Act (United States v. Windsor) and state level same-sex marriage bans (Obergefell v. Hodges) as unconstitutional. In foreign policy, Obama ordered U.S. military intervention in Iraq in response to gains made by ISIL after the 2011 withdrawal from Iraq, continued the process of ending U.S. combat operations in Afghanistan, promoted discussions that led to the 2015 Paris Agreement on global climate change, brokered a nuclear deal with Iran, and normalized U.S. relations with Cuba.'}}]}}\u001b[0m\n\u001b[0m                             ^\u001b[0m\n\u001b[0;31mSyntaxError\u001b[0m\u001b[0;31m:\u001b[0m invalid syntax\n"
     ]
    }
   ],
   "source": [
    "ast.literal_eval(sparql_res)"
   ]
  },
  {
   "cell_type": "code",
   "execution_count": null,
   "metadata": {},
   "outputs": [],
   "source": []
  }
 ],
 "metadata": {
  "kernelspec": {
   "display_name": "Python 3",
   "language": "python",
   "name": "python3"
  },
  "language_info": {
   "codemirror_mode": {
    "name": "ipython",
    "version": 3
   },
   "file_extension": ".py",
   "mimetype": "text/x-python",
   "name": "python",
   "nbconvert_exporter": "python",
   "pygments_lexer": "ipython3",
   "version": "3.6.4"
  }
 },
 "nbformat": 4,
 "nbformat_minor": 2
}
