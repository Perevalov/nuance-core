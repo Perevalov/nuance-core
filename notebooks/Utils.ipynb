{
 "cells": [
  {
   "cell_type": "code",
   "execution_count": 1,
   "metadata": {},
   "outputs": [],
   "source": [
    "import json"
   ]
  },
  {
   "cell_type": "code",
   "execution_count": 4,
   "metadata": {},
   "outputs": [],
   "source": [
    "with open('../intents/sparql_templates.json') as json_file:\n",
    "    data = json.load(json_file)"
   ]
  },
  {
   "cell_type": "code",
   "execution_count": 5,
   "metadata": {},
   "outputs": [
    {
     "data": {
      "text/plain": [
       "{'forward': {'query': 'PREFIX rdfs: <http://www.w3.org/2000/01/rdf-schema#> PREFIX dbo: <http://dbpedia.org/ontology/> SELECT ?a WHERE { OPTIONAL { %(entity) %(predicate) ?a . } }',\n",
       "  'parameters_number': 1},\n",
       " 'backward': {'query': 'PREFIX rdfs: <http://www.w3.org/2000/01/rdf-schema#> PREFIX dbo: <http://dbpedia.org/ontology/> SELECT ?a WHERE { OPTIONAL { ?a %(predicate) %(entity) . } }',\n",
       "  'parameters_number': 1},\n",
       " 'distance': {'query': 'PREFIX rdfs: <http://www.w3.org/2000/01/rdf-schema#> PREFIX dbo: <http://dbpedia.org/ontology/> SELECT ( bif:st_distance( ?nyl,?ll ) ) AS ?distanceBetweenCities WHERE {{ <%(point_1)> geo:geometry ?nyl . <%(point_2)> geo:geometry ?ll  . }}',\n",
       "  'parameters_number': 2},\n",
       " 'boolean': {'query': 'PREFIX dbr: <http://dbpedia.org/resource/> PREFIX dbo: <http://dbpedia.org/ontology/> ASK where {{ <%(entity_1)> dbo:birthPlace <%(entity_2)> . }}',\n",
       "  'parameters_number': 2}}"
      ]
     },
     "execution_count": 5,
     "metadata": {},
     "output_type": "execute_result"
    }
   ],
   "source": [
    "data"
   ]
  },
  {
   "cell_type": "code",
   "execution_count": 44,
   "metadata": {},
   "outputs": [],
   "source": [
    "q = 'PREFIX dbr: <http://dbpedia.org/resource/> PREFIX dbo: <http://dbpedia.org/ontology/> ASK where {{{{ {name} dbo:birthPlace {name1} . }}}}'"
   ]
  },
  {
   "cell_type": "code",
   "execution_count": 45,
   "metadata": {},
   "outputs": [
    {
     "data": {
      "text/plain": [
       "'PREFIX dbr: <http://dbpedia.org/resource/> PREFIX dbo: <http://dbpedia.org/ontology/> ASK where {{ 1 dbo:birthPlace 2 . }}'"
      ]
     },
     "execution_count": 45,
     "metadata": {},
     "output_type": "execute_result"
    }
   ],
   "source": [
    "q.format(name=1, name1=2)"
   ]
  },
  {
   "cell_type": "code",
   "execution_count": 1,
   "metadata": {},
   "outputs": [],
   "source": [
    "dicti = {'head': {'vars': ['p', 'o']}, 'results': {'bindings': [{'p': {'type': 'uri', 'value': 'http://www.w3.org/ns/openannotation/core/templateType'}, 'o': {'type': 'uri', 'value': 'http://www.w3.org/ns/openannotation/core/templateType:boolean'}}, \n",
    "{'p': {'type': 'uri', 'value': 'http://www.w3.org/ns/openannotation/core/isTemplateClassifierConfident'}, 'o': {'type': 'uri', 'value': 'http://www.w3.org/ns/openannotation/core/boolean:True'}}]}}"
   ]
  },
  {
   "cell_type": "code",
   "execution_count": 8,
   "metadata": {},
   "outputs": [
    {
     "data": {
      "text/plain": [
       "[{'p': {'type': 'uri',\n",
       "   'value': 'http://www.w3.org/ns/openannotation/core/templateType'},\n",
       "  'o': {'type': 'uri',\n",
       "   'value': 'http://www.w3.org/ns/openannotation/core/templateType:boolean'}},\n",
       " {'p': {'type': 'uri',\n",
       "   'value': 'http://www.w3.org/ns/openannotation/core/isTemplateClassifierConfident'},\n",
       "  'o': {'type': 'uri',\n",
       "   'value': 'http://www.w3.org/ns/openannotation/core/boolean:True'}}]"
      ]
     },
     "execution_count": 8,
     "metadata": {},
     "output_type": "execute_result"
    }
   ],
   "source": [
    "dicti['results']['bindings']"
   ]
  },
  {
   "cell_type": "code",
   "execution_count": 11,
   "metadata": {},
   "outputs": [
    {
     "data": {
      "text/plain": [
       "'http://www.w3.org/ns/openannotation/core/templateType'"
      ]
     },
     "execution_count": 11,
     "metadata": {},
     "output_type": "execute_result"
    }
   ],
   "source": [
    "dicti['results']['bindings'][0]['p']['value']"
   ]
  },
  {
   "cell_type": "code",
   "execution_count": null,
   "metadata": {},
   "outputs": [],
   "source": []
  }
 ],
 "metadata": {
  "kernelspec": {
   "display_name": "Python 3",
   "language": "python",
   "name": "python3"
  },
  "language_info": {
   "codemirror_mode": {
    "name": "ipython",
    "version": 3
   },
   "file_extension": ".py",
   "mimetype": "text/x-python",
   "name": "python",
   "nbconvert_exporter": "python",
   "pygments_lexer": "ipython3",
   "version": "3.6.4"
  }
 },
 "nbformat": 4,
 "nbformat_minor": 2
}
